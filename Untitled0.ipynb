{
  "nbformat": 4,
  "nbformat_minor": 0,
  "metadata": {
    "colab": {
      "provenance": [],
      "authorship_tag": "ABX9TyO5mWwWRxj8kbzVK9W5/BX3",
      "include_colab_link": true
    },
    "kernelspec": {
      "name": "python3",
      "display_name": "Python 3"
    },
    "language_info": {
      "name": "python"
    }
  },
  "cells": [
    {
      "cell_type": "markdown",
      "metadata": {
        "id": "view-in-github",
        "colab_type": "text"
      },
      "source": [
        "<a href=\"https://colab.research.google.com/github/uday1257/AIML-LAB/blob/main/Untitled0.ipynb\" target=\"_parent\"><img src=\"https://colab.research.google.com/assets/colab-badge.svg\" alt=\"Open In Colab\"/></a>"
      ]
    },
    {
      "cell_type": "code",
      "source": [
        "import numpy as np\n",
        "import pandas as pd\n",
        "#1.LIST\n",
        "l1=[\"sangu\"]\n",
        "l2=[\"uday\"]\n",
        "print(\"List 1:\",l1)\n",
        "print(\"List 2:\",l2)\n",
        "#2.Array\n",
        "arr1 = np.array(l1)\n",
        "arr2 = np.array(l2)\n",
        "#3.Type of arrays\n",
        "print(type(arr1))\n",
        "print(type(arr2))\n",
        "#4.Mathematical operation\n",
        "\n",
        "'print(\"Multiplication of array:\", (arr1*arr2))'\n",
        "'print(\"Division of arrays\",arr1/arr2)'\n",
        "'''print(\"Power off \",np.power(arr1,3))'''\n",
        "#5.combine text with numpy function\n",
        "print(\"Addition of Two arrays:\",l1+l2)\n",
        "#6.Implimenting numpy values\n",
        "'''print(np.sin(30))\n",
        "print(np.log(10))\n",
        "print(np.log2(3))\n",
        "print(np.exp(4))'''\n",
        "\n",
        "\n",
        "\n",
        "\n",
        "\n",
        "\n",
        "\n",
        "\n",
        "\n",
        "\n",
        "\n",
        "\n",
        "\n",
        "\n",
        "\n",
        "\n",
        "\n",
        "\n",
        "\n",
        "\n",
        "\n",
        "\n",
        "\n",
        "\n",
        "\n",
        "\n",
        "\n",
        "\n",
        "\n",
        "\n",
        "\n",
        "\n",
        "\n",
        "\n",
        "\n",
        "\n",
        "\n",
        "\n",
        "\n",
        "\n",
        "\n",
        "\n"
      ],
      "metadata": {
        "colab": {
          "base_uri": "https://localhost:8080/",
          "height": 122
        },
        "id": "Mk_QkmpOoS4X",
        "outputId": "8ec51a09-303c-4c4d-d3cd-ec2c1b8d8261"
      },
      "execution_count": null,
      "outputs": [
        {
          "output_type": "stream",
          "name": "stdout",
          "text": [
            "List 1: ['sangu']\n",
            "List 2: ['uday']\n",
            "<class 'numpy.ndarray'>\n",
            "<class 'numpy.ndarray'>\n",
            "Addition of Two arrays: ['sangu', 'uday']\n"
          ]
        },
        {
          "output_type": "execute_result",
          "data": {
            "text/plain": [
              "'print(np.sin(30))\\nprint(np.log(10))\\nprint(np.log2(3))\\nprint(np.exp(4))'"
            ],
            "application/vnd.google.colaboratory.intrinsic+json": {
              "type": "string"
            }
          },
          "metadata": {},
          "execution_count": 14
        }
      ]
    }
  ]
}