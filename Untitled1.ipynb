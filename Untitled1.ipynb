{
  "nbformat": 4,
  "nbformat_minor": 0,
  "metadata": {
    "colab": {
      "provenance": [],
      "authorship_tag": "ABX9TyPmYNXpafJJbAF5RjWRTT0X",
      "include_colab_link": true
    },
    "kernelspec": {
      "name": "python3",
      "display_name": "Python 3"
    },
    "language_info": {
      "name": "python"
    }
  },
  "cells": [
    {
      "cell_type": "markdown",
      "metadata": {
        "id": "view-in-github",
        "colab_type": "text"
      },
      "source": [
        "<a href=\"https://colab.research.google.com/github/uday1257/AIML-LAB/blob/main/Untitled1.ipynb\" target=\"_parent\"><img src=\"https://colab.research.google.com/assets/colab-badge.svg\" alt=\"Open In Colab\"/></a>"
      ]
    },
    {
      "cell_type": "code",
      "execution_count": 4,
      "metadata": {
        "id": "CGrEM9mZ2UET",
        "colab": {
          "base_uri": "https://localhost:8080/"
        },
        "outputId": "8ba1f7b3-fff5-4698-d5cd-59fe31e6cfda"
      },
      "outputs": [
        {
          "output_type": "stream",
          "name": "stdout",
          "text": [
            "[1.1  0.76 0.56]\n"
          ]
        }
      ],
      "source": [
        "import numpy as np\n",
        "inputs = np.array([0.4,0.3,1,0.8])\n",
        "weights = np.array([\n",
        "    [0.3,0.2,0.1,0.4],\n",
        "    [0.3,0.4,-0.1,0.4],\n",
        "    [0.3,0.2,0.1,-0.4]\n",
        "])\n",
        "biases = np.array([0.5,0.3,0.6])\n",
        "output = np.dot(weights,inputs)+biases\n",
        "print(output)"
      ]
    },
    {
      "cell_type": "code",
      "source": [
        "inputs = [0.4,0.3,1,0.8]\n",
        "weights1 = [0.3,0.2,0.1,0.4]\n",
        "weights2 = [0.3,0.4,-0.1,0.4]\n",
        "weights3 = [0.3,0.2,0.1,-0.4]\n",
        "bias1 = 0.5\n",
        "bias2 = 0.3\n",
        "bias3 = 0.6\n",
        "output= [inputs[0]*weights1[0]+inputs[1]*weights1[1]+inputs[2]*weights1[2]+inputs[3]*weights1[3]+bias1,\n",
        "        inputs[0]*weights2[0]+inputs[1]*weights2[1]+inputs[2]*weights2[2]+inputs[3]*weights2[3]+bias2,\n",
        "        inputs[0]*weights3[0]+inputs[1]*weights3[1]+inputs[2]*weights3[2]+inputs[3]*weights3[3]+bias3]\n",
        "print(output)"
      ],
      "metadata": {
        "colab": {
          "base_uri": "https://localhost:8080/"
        },
        "id": "M15j9l_NB4Z2",
        "outputId": "a82a5017-1d3f-414d-fa56-18bd922dc553"
      },
      "execution_count": 5,
      "outputs": [
        {
          "output_type": "stream",
          "name": "stdout",
          "text": [
            "[1.1, 0.76, 0.5599999999999999]\n"
          ]
        }
      ]
    },
    {
      "cell_type": "code",
      "source": [
        "import numpy as np\n",
        "def relu(x):\n",
        "  return np.maximum(0,x)\n",
        "inputs = np.array([0.4,0.3,1,0.8])\n",
        "weights = np.array([\n",
        "    [0.3,0.2,0.1,0.4],\n",
        "    [0.3,0.4,-0.1,0.4],\n",
        "    [0.3,0.2,0.1,-0.4]\n",
        "])\n",
        "biases = np.array([0.5,0.3,0.6])\n",
        "output = np.dot(weights,inputs)+biases\n",
        "\n",
        "output = relu(output)\n",
        "\n",
        "print(output)"
      ],
      "metadata": {
        "colab": {
          "base_uri": "https://localhost:8080/"
        },
        "id": "INtd2jZMB8uu",
        "outputId": "025034f4-6a83-4466-ec87-b2cf0beb93e2"
      },
      "execution_count": 6,
      "outputs": [
        {
          "output_type": "stream",
          "name": "stdout",
          "text": [
            "[1.1  0.76 0.56]\n"
          ]
        }
      ]
    },
    {
      "cell_type": "code",
      "source": [
        "import numpy as np\n",
        "def sigmoid(x):\n",
        "    return 1/(1+np.exp(-x))\n",
        "def relu(x):\n",
        "  return np.maximum(0,x)\n",
        "inputs = np.array([0.4,0.3,1,0.8])\n",
        "weights = np.array([\n",
        "    [0.3,0.2,0.1,0.4],\n",
        "    [0.3,0.4,-0.1,0.4],\n",
        "    [0.3,0.2,0.1,-0.4]\n",
        "])\n",
        "biases = np.array([0.5,0.3,0.6])\n",
        "output = np.dot(weights,inputs)+biases\n",
        "\n",
        "output1 = relu(output)\n",
        "print(output1)\n",
        "output2 = sigmoid(output)\n",
        "print(output2)"
      ],
      "metadata": {
        "colab": {
          "base_uri": "https://localhost:8080/"
        },
        "id": "Ecv878s0CA4d",
        "outputId": "fac7c08a-84a8-46d3-c9b9-d9335d7ab356"
      },
      "execution_count": 7,
      "outputs": [
        {
          "output_type": "stream",
          "name": "stdout",
          "text": [
            "[1.1  0.76 0.56]\n",
            "[0.75026011 0.68135373 0.63645254]\n"
          ]
        }
      ]
    },
    {
      "cell_type": "code",
      "source": [
        "from queue import Queue\n",
        "graph={0:[1,2,3],\n",
        "       1:[0,2],\n",
        "       2:[1,3,5],\n",
        "       3:[0,2,4],\n",
        "       4:[3,5,7],\n",
        "       5:[2,4,6,7],\n",
        "       6:[5,7],\n",
        "       7:[]}\n",
        "print(\"The adjacency List representing the graph is:\")\n",
        "print(graph)\n",
        "\n",
        "def bfs(graph, source):\n",
        "  Q=Queue()\n",
        "  visited_vertices=set()\n",
        "  Q.put(source)\n",
        "  visited_vertices.update({source})\n",
        "  while not Q.empty():\n",
        "    vertex = Q.get()\n",
        "    print(vertex, end=\"->\")\n",
        "    for u in graph[vertex]:\n",
        "      if u not in visited_vertices:\n",
        "        Q.put(u)\n",
        "        visited_vertices.update({u})\n",
        "print(\"BFS traversal of graph with source 1 is:\")\n",
        "bfs(graph, 1)"
      ],
      "metadata": {
        "colab": {
          "base_uri": "https://localhost:8080/"
        },
        "id": "hNrKZCgXCEZN",
        "outputId": "c5573e8c-3d78-480c-9dff-1d760a851cb0"
      },
      "execution_count": 8,
      "outputs": [
        {
          "output_type": "stream",
          "name": "stdout",
          "text": [
            "The adjacency List representing the graph is:\n",
            "{0: [1, 2, 3], 1: [0, 2], 2: [1, 3, 5], 3: [0, 2, 4], 4: [3, 5, 7], 5: [2, 4, 6, 7], 6: [5, 7], 7: []}\n",
            "BFS traversal of graph with source 1 is:\n",
            "1->0->2->3->5->4->6->7->"
          ]
        }
      ]
    },
    {
      "cell_type": "code",
      "source": [
        "graph1={\n",
        "    'A':['B','S'],\n",
        "    'B':['A'],\n",
        "    'S':['A','C','G'],\n",
        "    'G':['S','F','H'],\n",
        "    'H':['G','E'],\n",
        "    'E':['D','H','F'],\n",
        "    'F':['C','G'],\n",
        "    'C':['S','E','D'],\n",
        "    'D':['C']\n",
        "}\n",
        "def dfs(graph,node,visited):\n",
        "  if node not in visited:\n",
        "    visited.append(node)\n",
        "    for k in graph[node]:\n",
        "      dfs(graph,k,visited)\n",
        "  return visited\n",
        "visited=dfs(graph1,'B',[])\n",
        "print(visited)"
      ],
      "metadata": {
        "colab": {
          "base_uri": "https://localhost:8080/"
        },
        "id": "hd0UnY15CPO7",
        "outputId": "98cd9abc-c2fa-4d08-aba4-4201fbd4be0d"
      },
      "execution_count": 11,
      "outputs": [
        {
          "output_type": "stream",
          "name": "stdout",
          "text": [
            "['B', 'A', 'S', 'C', 'E', 'D', 'H', 'G', 'F']\n"
          ]
        }
      ]
    },
    {
      "cell_type": "code",
      "source": [
        "graph1={\n",
        "    'A':['B','C','G'],\n",
        "    'B':['A'],\n",
        "    'C':['A','D','F'],\n",
        "    'D':['A','C','E','H'],\n",
        "    'E':['D','H','F'],\n",
        "    'F':['C','E'],\n",
        "    'G':['A','D','H'],\n",
        "    'H':['D','E','G']\n",
        "}\n",
        "def dfs(graph,node,visited):\n",
        "  if node not in visited:\n",
        "    visited.append(node)\n",
        "    for k in graph[node]:\n",
        "      dfs(graph,k,visited)\n",
        "  return visited\n",
        "visited=dfs(graph1,'B',[])\n",
        "print(visited)"
      ],
      "metadata": {
        "colab": {
          "base_uri": "https://localhost:8080/"
        },
        "id": "le2AhSE1CmnV",
        "outputId": "146e61cf-8e42-4449-f1d7-c359c54bf646"
      },
      "execution_count": 12,
      "outputs": [
        {
          "output_type": "stream",
          "name": "stdout",
          "text": [
            "['B', 'A', 'C', 'D', 'E', 'H', 'G', 'F']\n"
          ]
        }
      ]
    },
    {
      "cell_type": "code",
      "source": [
        "from copy import deepcopy\n",
        "import numpy as np\n",
        "import time\n",
        "def bestsolution(state):\n",
        "    bestsol=np.array([],int).reshape(-1,9)\n",
        "    count=len(state)-1\n",
        "    while count!=-1:\n",
        "        bestsol=np.insert(bestsol,0,state[count]['puzzle'],0)\n",
        "        count=(state[count]['parent'])\n",
        "    return bestsol.reshape(-1,3,3)\n",
        "def all(checkarray):\n",
        "    set=[]\n",
        "    for it in set:\n",
        "        for checkarray in it:\n",
        "            return 1\n",
        "        else:\n",
        "            return 0\n",
        "def misplaced_tiles(puzzle,goal):\n",
        "    mscost=np.sum(puzzle!=goal)-1\n",
        "    return mscost if mscost>0 else 0\n",
        "def coordinates(puzzle):\n",
        "    pos=np.array(range(9))\n",
        "    for p,q in enumerate(puzzle):\n",
        "        pos[q]=p\n",
        "    return pos\n",
        "def evaluvate_misplaced(puzzle, goal):\n",
        "    steps=np.array([('up',[0,1,2],-3),('down',[6,7,8],3),('left',[0,3,6],-1),('right',[2,5,8],1)],\n",
        "                dtype=[('move',str,1),('position',list),('head',int)])\n",
        "    dtstate=[('puzzle',list),('parent',int),('gn',int),('hn',int)]\n",
        "    costg=coordinates(goal)\n",
        "    parent=-1\n",
        "    gn=0\n",
        "    hn=misplaced_tiles(coordinates(puzzle),costg)\n",
        "    state=np.array([(puzzle,parent,gn,hn)],dtstate)\n",
        "    dtpriority=[('position',int),('fn',int)]\n",
        "    priority=np.array([(0,hn)],dtpriority)\n",
        "    while 1:\n",
        "        priority=np.sort(priority,kind='mergesort',order=['fn','position'])\n",
        "        position,fn=priority[0]\n",
        "        priority=np.delete(priority,0,0)\n",
        "        puzzle,parent,gn,hn=state[position]\n",
        "        puzzle=np.array(puzzle)\n",
        "        blank=int(np.where(puzzle==0)[0])\n",
        "        gn=gn+1\n",
        "        c=1\n",
        "        start_time=time.time()\n",
        "        for s in steps:\n",
        "            c=c+1\n",
        "            if blank not in s['position']:\n",
        "                openstates=deepcopy(puzzle)\n",
        "                openstates[blank],openstates[blank+s['head']]=openstates[blank+s['head']],openstates[blank]\n",
        "                if ~(np.all(list(state['puzzle'])==openstates,1)).any():\n",
        "                    end_time=time.time()\n",
        "                    if ((end_time-start_time)>2):\n",
        "                        print(\"The 8 puzzle is unsolvable \\n\")\n",
        "                        break\n",
        "                    hn=misplaced_tiles(coordinates(openstates),costg)\n",
        "                    q=np.array([(openstates,position,gn,hn)],dtstate)\n",
        "                    state=np.append(state,q,0)\n",
        "                    fn=gn+hn\n",
        "                    q=np.array([(len(state)-1,fn)],dtpriority)\n",
        "                    priority=np.append(priority,q,0)\n",
        "                    if np.array_equal(openstates,goal):\n",
        "                        print('The 8 puzzle is solvable \\n')\n",
        "                        return state,len(priority)\n",
        "    return state,len(priority)\n",
        "puzzle=[]\n",
        "puzzle.append(2)\n",
        "puzzle.append(8)\n",
        "puzzle.append(3)\n",
        "puzzle.append(1)\n",
        "puzzle.append(6)\n",
        "puzzle.append(4)\n",
        "puzzle.append(7)\n",
        "puzzle.append(0)\n",
        "puzzle.append(5)\n",
        "goal=[]\n",
        "goal.append(1)\n",
        "goal.append(2)\n",
        "goal.append(3)\n",
        "goal.append(8)\n",
        "goal.append(0)\n",
        "goal.append(4)\n",
        "goal.append(7)\n",
        "goal.append(6)\n",
        "goal.append(5)\n",
        "state,visited=evaluvate_misplaced(puzzle,goal)\n",
        "bestpath=bestsolution(state)\n",
        "print(str(bestpath).replace('[','').replace(']',''))\n",
        "totalmoves=len(bestpath)-1\n",
        "print('\\nSteps to reach goal:',totalmoves)\n",
        "visit=len(state)-visited\n",
        "print('Total nodes visited:',visit,\"\\n\")"
      ],
      "metadata": {
        "colab": {
          "base_uri": "https://localhost:8080/"
        },
        "id": "clvFmiWsCqRk",
        "outputId": "4f6eb615-735f-4b03-f654-c20a9efb1ec9"
      },
      "execution_count": 13,
      "outputs": [
        {
          "output_type": "stream",
          "name": "stdout",
          "text": [
            "The 8 puzzle is solvable \n",
            "\n",
            "2 8 3\n",
            "  1 6 4\n",
            "  7 0 5\n",
            "\n",
            " 2 8 3\n",
            "  1 0 4\n",
            "  7 6 5\n",
            "\n",
            " 2 0 3\n",
            "  1 8 4\n",
            "  7 6 5\n",
            "\n",
            " 0 2 3\n",
            "  1 8 4\n",
            "  7 6 5\n",
            "\n",
            " 1 2 3\n",
            "  0 8 4\n",
            "  7 6 5\n",
            "\n",
            " 1 2 3\n",
            "  8 0 4\n",
            "  7 6 5\n",
            "\n",
            "Steps to reach goal: 5\n",
            "Total nodes visited: 6 \n",
            "\n"
          ]
        },
        {
          "output_type": "stream",
          "name": "stderr",
          "text": [
            "<ipython-input-13-6f95fa551d05>:43: DeprecationWarning: Conversion of an array with ndim > 0 to a scalar is deprecated, and will error in future. Ensure you extract a single element from your array before performing this operation. (Deprecated NumPy 1.25.)\n",
            "  blank=int(np.where(puzzle==0)[0])\n"
          ]
        }
      ]
    }
  ]
}